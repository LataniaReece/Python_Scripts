{
 "cells": [
  {
   "cell_type": "markdown",
   "metadata": {},
   "source": [
    "## Iris Data "
   ]
  },
  {
   "cell_type": "code",
   "execution_count": 1,
   "metadata": {},
   "outputs": [],
   "source": [
    "from sklearn.datasets import load_iris\n",
    "\n",
    "iris = load_iris()\n",
    "X, y = iris.data, iris.target"
   ]
  },
  {
   "cell_type": "code",
   "execution_count": 2,
   "metadata": {},
   "outputs": [],
   "source": [
    "from sklearn.model_selection import train_test_split\n",
    "\n",
    "train_X, test_X, train_y, test_y = train_test_split(X, y, \n",
    "                                                   train_size = 0.5, \n",
    "                                                   test_size = 0.5, \n",
    "                                                   random_state = 123)\n",
    "\n",
    "#omitting train size and just use test size will complement the training data to equal 100%"
   ]
  },
  {
   "cell_type": "code",
   "execution_count": 5,
   "metadata": {},
   "outputs": [
    {
     "name": "stdout",
     "output_type": "stream",
     "text": [
      "All: [33.33333333 33.33333333 33.33333333]\n",
      "Training: [30.66666667 40.         29.33333333]\n",
      "Test:  [36.         26.66666667 37.33333333]\n"
     ]
    }
   ],
   "source": [
    "## Checking the proportions of the target variable \n",
    "import numpy as np\n",
    "print('All:', np.bincount(y) / float(len(y)) * 100)\n",
    "print('Training:', np.bincount(train_y) / float(len(train_y)) * 100)\n",
    "print('Test: ', np.bincount(test_y) / float(len(test_y)) * 100)"
   ]
  },
  {
   "cell_type": "markdown",
   "metadata": {},
   "source": [
    "### Stratified Data Partition"
   ]
  },
  {
   "cell_type": "code",
   "execution_count": 18,
   "metadata": {},
   "outputs": [],
   "source": [
    "X_train, X_test, y_train, y_test = train_test_split(X, y, \n",
    "                                                   train_size = 0.5, \n",
    "                                                   test_size = 0.5, \n",
    "                                                   random_state = 123, \n",
    "                                                   stratify = y)"
   ]
  },
  {
   "cell_type": "code",
   "execution_count": 19,
   "metadata": {},
   "outputs": [
    {
     "name": "stdout",
     "output_type": "stream",
     "text": [
      "All: [33.33333333 33.33333333 33.33333333]\n",
      "Training: [33.33333333 33.33333333 33.33333333]\n",
      "Test:  [33.33333333 33.33333333 33.33333333]\n"
     ]
    }
   ],
   "source": [
    "print('All:', np.bincount(y) / float(len(y)) * 100)\n",
    "print('Training:', np.bincount(train_y) / float(len(train_y)) * 100)\n",
    "print('Test: ', np.bincount(test_y) / float(len(test_y)) * 100)\n",
    "\n",
    "#You want to simulate the real world so it's better to preserve the distirbution of classes so that your \n",
    "#algorithm is able to adapt and make better predictions"
   ]
  },
  {
   "cell_type": "code",
   "execution_count": 20,
   "metadata": {},
   "outputs": [
    {
     "data": {
      "text/plain": [
       "0.96"
      ]
     },
     "execution_count": 20,
     "metadata": {},
     "output_type": "execute_result"
    }
   ],
   "source": [
    "from sklearn.neighbors import KNeighborsClassifier\n",
    "\n",
    "classifier = KNeighborsClassifier().fit(X_train, y_train)\n",
    "y_pred = classifier.predict(X_test)\n",
    "classifier.score(X_test, y_test)"
   ]
  },
  {
   "cell_type": "markdown",
   "metadata": {},
   "source": [
    "Identifying Correct Predictions"
   ]
  },
  {
   "cell_type": "code",
   "execution_count": 29,
   "metadata": {},
   "outputs": [
    {
     "name": "stdout",
     "output_type": "stream",
     "text": [
      "Samples Correctly Classified:\n",
      "[ 0  1  2  3  4  5  6  7  8  9 10 11 12 13 14 15 16 17 18 19 20 21 22 23\n",
      " 24 25 26 27 28 29 30 31 32 33 34 35 36 37 38 39 40 41 42 43 45 46 47 48\n",
      " 50 51 52 53 54 55 56 57 58 59 61 62 63 64 65 66 67 68 69 70 71 72 73 74]\n"
     ]
    }
   ],
   "source": [
    "print('Samples Correctly Classified:')\n",
    "correct_idx = np.where(y_pred == y_test)[0]\n",
    "print(correct_idx)"
   ]
  },
  {
   "cell_type": "markdown",
   "metadata": {},
   "source": [
    "Identifying Incorrect Predictions"
   ]
  },
  {
   "cell_type": "code",
   "execution_count": 30,
   "metadata": {},
   "outputs": [
    {
     "name": "stdout",
     "output_type": "stream",
     "text": [
      "Samples Incorrectly Classified:\n",
      "[44 49 60]\n"
     ]
    }
   ],
   "source": [
    "print('Samples Incorrectly Classified:')\n",
    "incorrect_idx = np.where(y_pred != y_test)[0]\n",
    "print(incorrect_idx)"
   ]
  },
  {
   "cell_type": "markdown",
   "metadata": {},
   "source": [
    "View those data points "
   ]
  },
  {
   "cell_type": "code",
   "execution_count": 66,
   "metadata": {},
   "outputs": [
    {
     "name": "stdout",
     "output_type": "stream",
     "text": [
      "Data points:\n",
      "[[5.9 3.2 4.8 1.8]\n",
      " [6.7 3.  5.  1.7]\n",
      " [4.9 2.5 4.5 1.7]]\n",
      "\n",
      "Actual Labels: \n",
      "[1 1 2]\n",
      "['versicolor' 'versicolor' 'virginica']\n",
      "\n",
      "What the algorithm predicted: \n",
      "[2 2 1]\n",
      "['virginica' 'virginica' 'versicolor']\n",
      "\n"
     ]
    }
   ],
   "source": [
    "print('Data points:')\n",
    "print(X_test[incorrect_idx,])\n",
    "print('')\n",
    "\n",
    "print('Actual Labels: ')\n",
    "print(y_test[incorrect_idx,])\n",
    "print(iris.target_names[y_test[incorrect_idx,],])\n",
    "print('')\n",
    "\n",
    "print('What the algorithm predicted: ')\n",
    "print(y_pred[incorrect_idx,])\n",
    "print(iris.target_names[y_pred[incorrect_idx,],])\n",
    "print('')"
   ]
  },
  {
   "cell_type": "markdown",
   "metadata": {},
   "source": [
    "Plot the points identifying those that are incorretly  indentified"
   ]
  },
  {
   "cell_type": "code",
   "execution_count": 62,
   "metadata": {},
   "outputs": [
    {
     "data": {
      "image/png": "[encoded data removed]",
      "text/plain": [
       "<Figure size 432x288 with 1 Axes>"
      ]
     },
     "metadata": {
      "needs_background": "light"
     },
     "output_type": "display_data"
    }
   ],
   "source": [
    "#Plot two dimensions \n",
    "import matplotlib.pyplot as plt\n",
    "\n",
    "for n in np.unique(y_test):\n",
    "    idx = np.where(y_test == n)[0]\n",
    "    plt.scatter(X_test[idx, 1], X_test[idx, 2], label = 'Class %s' % str(iris.target_names[n]))\n",
    "    \n",
    "plt.scatter(X_test[incorrect_idx, 1], X_test[incorrect_idx, 2], color ='red')\n",
    "\n",
    "plt.xlabel('Sepal Width (cm)')\n",
    "plt.ylabel('Petal Length (cm)')\n",
    "plt.legend(loc = 3)\n",
    "plt.title('Iris Classification Results')\n",
    "plt.show()"
   ]
  },
  {
   "cell_type": "code",
   "execution_count": 72,
   "metadata": {},
   "outputs": [
    {
     "data": {
      "text/plain": [
       "array([[3.2, 4.8],\n",
       "       [3. , 5. ],\n",
       "       [2.5, 4.5]])"
      ]
     },
     "execution_count": 72,
     "metadata": {},
     "output_type": "execute_result"
    }
   ],
   "source": [
    "#The data points on the plot \n",
    "X_test[incorrect_idx][:, [1,2]]\n"
   ]
  },
  {
   "cell_type": "markdown",
   "metadata": {},
   "source": [
    "Using shapes in plot to visualize the mistakes"
   ]
  },
  {
   "cell_type": "code",
   "execution_count": 75,
   "metadata": {},
   "outputs": [
    {
     "name": "stdout",
     "output_type": "stream",
     "text": [
      "44: Predicted 2 True Label 1\n",
      "49: Predicted 2 True Label 1\n",
      "60: Predicted 1 True Label 2\n"
     ]
    },
    {
     "data": {
      "image/png": "[encoded data removed]",
      "text/plain": [
       "<Figure size 432x288 with 1 Axes>"
      ]
     },
     "metadata": {
      "needs_background": "light"
     },
     "output_type": "display_data"
    }
   ],
   "source": [
    "for i in incorrect_idx: \n",
    "    print('%d: Predicted %d True Label %d' % (i, y_pred[i], y_test[i]))\n",
    "\n",
    "#plot the two dimensions \n",
    "colors = ['darkblue', 'darkgreen', 'gray']\n",
    "\n",
    "for n, color in enumerate(colors):\n",
    "    idx = np.where(y_test == n)[0]\n",
    "    plt.scatter(X_test[idx, 1], X_test[idx, 2],\n",
    "               color = color, label = 'Class %s' % str(n))\n",
    "    \n",
    "for i, marker in zip(incorrect_idx, ['x', 's', 'v']):\n",
    "    plt.scatter(X_test[i, 1], X_test[i, 2],\n",
    "               color = 'darkred',\n",
    "               marker = marker,\n",
    "               s = 40,\n",
    "               label = i)\n",
    "    \n",
    "plt.xlabel('Sepal Width (cm)')\n",
    "plt.ylabel('Petal Length (cm)')\n",
    "plt.legend(loc = 1, scatterpoints = 1)\n",
    "plt.title('Iris Classification Results')\n",
    "plt.show()"
   ]
  },
  {
   "cell_type": "code",
   "execution_count": null,
   "metadata": {},
   "outputs": [],
   "source": []
  }
 ],
 "metadata": {
  "kernelspec": {
   "display_name": "Python 3",
   "language": "python",
   "name": "python3"
  },
  "language_info": {
   "codemirror_mode": {
    "name": "ipython",
    "version": 3
   },
   "file_extension": ".py",
   "mimetype": "text/x-python",
   "name": "python",
   "nbconvert_exporter": "python",
   "pygments_lexer": "ipython3",
   "version": "3.7.3"
  }
 },
 "nbformat": 4,
 "nbformat_minor": 2
}
